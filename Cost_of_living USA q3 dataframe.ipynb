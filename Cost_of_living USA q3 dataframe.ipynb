{
 "cells": [
  {
   "cell_type": "code",
   "execution_count": 9,
   "metadata": {},
   "outputs": [
    {
     "name": "stdout",
     "output_type": "stream",
     "text": [
      "                Mississippi   86.4   95.4   72.4   90.4   91.6   91.4   91.2\n",
      "1                                                                           \n",
      " 2.0               Oklahoma   87.1   93.7   72.9   95.8   92.4   91.3   91.7\n",
      " 3.0               Arkansas   88.5   90.5   75.4   91.9   91.0   84.1   97.3\n",
      " 4.0               Missouri   88.6   99.0   72.0   99.1   95.6   97.3   92.0\n",
      " 5.0                Wyoming   89.1   98.8   75.2   86.7   80.7   95.9   98.5\n",
      " 6.0              Tennessee   89.4   91.3   82.4   95.6   89.4   89.1   92.5\n",
      " 7.0                Alabama   89.6   96.9   71.6  103.2   92.8   88.0   96.7\n",
      " 8.0                 Kansas   89.9   92.9   75.1  102.2   95.8   97.2   94.6\n",
      " 9.0                Indiana   90.0   90.1   75.5   97.4   99.4   96.2   96.3\n",
      " 10.0              Michigan   90.2   84.2   77.9   97.4  103.2   92.5   96.8\n",
      " 11.0                 Texas   91.4   90.0   84.2  100.6   94.3   95.5   93.8\n",
      " 12.0            New Mexico   91.5  102.5   79.2   88.7   93.9  104.1   95.7\n",
      " 13.0                  Iowa   91.5   98.1   78.8  100.3   97.5   98.0   94.5\n",
      " 14.0               Georgia   91.6   98.2   76.5   94.0   93.4   96.4   99.3\n",
      " 15.0         West Virginia   92.5   92.7   86.8   90.4   81.7   90.2  100.6\n",
      " 16.0                  Ohio   93.0   97.5   76.9   93.8  102.3   96.8  101.2\n",
      " 17.0             Louisiana   93.1   99.3   86.8   89.4   97.7   94.3   95.6\n",
      " 18.0                 Idaho   94.0   92.1   85.6   87.6  110.8  100.3   98.1\n",
      " 19.0        North Carolina   94.5   96.4   80.5   95.4   93.3  110.5  103.0\n",
      " 20.0              Nebraska   94.8   97.5   83.3   95.7   95.9  100.4  101.6\n",
      " 21.0              Kentucky   95.0   89.0   84.6   94.5  104.0   90.8  104.0\n",
      " 22.0              Illinois   95.7   94.3   89.0   97.3  103.9   99.2   98.7\n",
      " 23.0             Wisconsin   96.8   97.8   88.8   96.9  101.7  115.4   99.0\n",
      " 24.0        South Carolina   97.8  102.8   86.4  107.0   93.1  100.5  103.3\n",
      " 25.0               Arizona   97.9   99.9   95.3  107.4  105.7   94.9   95.1\n",
      " 26.0          South Dakota   98.0  103.3  109.1   92.1   93.8   95.9   90.0\n",
      " 27.0          Pennsylvania   98.4  100.6   92.8  106.9  107.7   92.1   98.1\n",
      " 28.0               Florida   99.1  108.2   95.6  100.0   98.8   96.3   98.6\n",
      " 29.0          North Dakota   99.6  108.9   93.2   90.4  105.8  115.9   99.9\n",
      " 30.0                  Utah  100.0  102.8   96.0   93.0  108.4   95.3  102.5\n",
      " 31.0              Virginia  101.1   96.3  111.8   97.1   88.9  100.0   98.6\n",
      " 32.0             Minnesota  103.2  107.8   88.7   99.3  103.1  112.4  113.2\n",
      " 33.0              Delaware  104.7  107.2   98.3   98.8  102.5  101.2  111.6\n",
      " 34.0               Montana  105.9  104.9  113.3   85.9   98.2  106.6  107.8\n",
      " 35.0         New Hampshire  106.6  100.4  105.8  113.1   89.0  118.4  110.8\n",
      " 36.0              Colorado  107.3  101.9  126.1   86.7  103.2  103.1  101.9\n",
      " 37.0                Nevada  108.8  109.7  120.2   89.7  112.7  107.4  103.8\n",
      " 38.0            Washington  109.3  108.6  115.1   90.5  112.7  119.0  108.2\n",
      " 39.0                 Maine  115.9  106.6  124.8  109.5  104.9  124.0  115.8\n",
      " 40.0               Vermont  117.2  110.5  140.5  115.9  112.2  103.0  104.4\n",
      " 41.0          Rhode Island  120.8  106.1  143.3  122.7   96.0  111.6  115.5\n",
      " 42.0            New Jersey  122.3  104.8  157.7  107.4  108.5  105.1  110.5\n",
      " 43.0         Massachusetts  129.2  113.7  167.1  106.7  110.5  121.5  116.8\n",
      " 44.0              Maryland  129.3  108.5  192.4  105.1   98.0   90.7  106.3\n",
      " 45.0                Oregon  129.4  112.6  185.1   87.4  118.1  113.7  107.8\n",
      " 46.0                Alaska  130.5  136.5  137.5  155.4  118.2  148.3  116.3\n",
      " 47.0           Connecticut  133.0  110.5  164.9  125.6  118.4  122.2  123.3\n",
      " 48.0              New York  134.0  112.2  195.7  106.1  105.4  104.6  111.8\n",
      " 49.0            California  137.2  116.6  192.7  120.8  126.1  111.4  111.1\n",
      " 50.0  District of Columbia  161.0  127.1  268.4  114.3   95.0   99.3  125.8\n",
      " 51.0                Hawaii  188.9  165.7  318.6  160.5  139.7  120.2  122.9\n",
      "NaN              US Average  100.0  100.0  100.0  100.0  100.0  100.0  100.0\n",
      "NaN                     NaN    NaN    NaN    NaN    NaN    NaN    NaN    NaN\n",
      "NaN                     NaN    NaN    NaN    NaN    NaN    NaN    NaN    NaN\n",
      "NaN                     NaN    NaN    NaN    NaN    NaN    NaN    NaN    NaN\n",
      "NaN                     NaN    NaN    NaN    NaN    NaN    NaN    NaN    NaN\n"
     ]
    }
   ],
   "source": [
    "# Keep this cell as is.  No need to change anything.  \n",
    "import pandas as pd\n",
    "costliv = pd.read_csv('Q32018CostOfLiving.csv', index_col = 1)\n",
    "print(costliv)"
   ]
  },
  {
   "cell_type": "code",
   "execution_count": null,
   "metadata": {},
   "outputs": [],
   "source": []
  },
  {
   "cell_type": "code",
   "execution_count": null,
   "metadata": {},
   "outputs": [],
   "source": []
  },
  {
   "cell_type": "code",
   "execution_count": null,
   "metadata": {},
   "outputs": [],
   "source": []
  },
  {
   "cell_type": "code",
   "execution_count": null,
   "metadata": {},
   "outputs": [],
   "source": []
  }
 ],
 "metadata": {
  "kernelspec": {
   "display_name": "Python 3",
   "language": "python",
   "name": "python3"
  },
  "language_info": {
   "codemirror_mode": {
    "name": "ipython",
    "version": 3
   },
   "file_extension": ".py",
   "mimetype": "text/x-python",
   "name": "python",
   "nbconvert_exporter": "python",
   "pygments_lexer": "ipython3",
   "version": "3.6.5"
  }
 },
 "nbformat": 4,
 "nbformat_minor": 2
}
